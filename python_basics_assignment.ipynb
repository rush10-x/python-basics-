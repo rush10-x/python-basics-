{
  "nbformat": 4,
  "nbformat_minor": 0,
  "metadata": {
    "colab": {
      "provenance": []
    },
    "kernelspec": {
      "name": "python3",
      "display_name": "Python 3"
    },
    "language_info": {
      "name": "python"
    }
  },
  "cells": [
    {
      "cell_type": "code",
      "execution_count": null,
      "metadata": {
        "id": "unGf5ydO3Huk"
      },
      "outputs": [],
      "source": []
    },
    {
      "cell_type": "markdown",
      "source": [
        "# **Python Basics Assignment**\n",
        "***Theory questions***\n",
        "\n"
      ],
      "metadata": {
        "id": "a2vr_YCF3LA8"
      }
    },
    {
      "cell_type": "markdown",
      "source": [
        " Q1. What is Python, and why is it popular.\n",
        " - Python is a general-purpose programming language that can be used for many tasks, including web development, data analysis, and software testing.\n",
        " - Python is a popular programming language because it's easy to learn, versatile, and has a large community of users."
      ],
      "metadata": {
        "id": "ovkq_01E4V4f"
      }
    },
    {
      "cell_type": "markdown",
      "source": [
        "Q2. What is an interpreter in Python.\n",
        " - A Python interpreter is a program that reads and executes Python code. It translates Python code into machine code that the computer can understand.\n"
      ],
      "metadata": {
        "id": "lfNC6RUh7IDb"
      }
    },
    {
      "cell_type": "markdown",
      "source": [
        "Q3. What are pre-defined keywords in Python.\n",
        "- Predefined keywords in Python are special words with specific meanings that cannot be changed. They are part of Python's syntax and cannot be used as identifiers, such as variable names, function names, or class names."
      ],
      "metadata": {
        "id": "Fci84OTv7XYV"
      }
    },
    {
      "cell_type": "markdown",
      "source": [
        "Q4. Can keywords be used as variable names.\n",
        "- No, keywords cannot be used as variable names in Python. Keywords are reserved words that define the structure and syntax of the Python language."
      ],
      "metadata": {
        "id": "TI-T9P_P7qNL"
      }
    },
    {
      "cell_type": "markdown",
      "source": [
        "Q5. What is mutability in Python.\n",
        "- In Python, mutability is the ability of an object to change after it has been created. Mutable objects can be modified in terms of their state or contents."
      ],
      "metadata": {
        "id": "w1HHncMI75g5"
      }
    },
    {
      "cell_type": "markdown",
      "source": [
        "Q6.Why are lists mutable, but tuples are immutable.\n",
        "- The main difference between tuples and lists is that tuples are immutable, meaning their contents cannot be changed after creation, while lists are mutable and can be modified. Additionally, tuples are more memory-efficient compared to lists. Tuples can't be changed after they're created, but lists can be modified."
      ],
      "metadata": {
        "id": "odqCwam_8Kba"
      }
    },
    {
      "cell_type": "markdown",
      "source": [
        "Q7. What is the difference between “==” and “is” operators in Python.\n",
        "- In Python, both == and is are used for comparisons, but they serve different purposes.\n",
        "- == checks for value equality.\n",
        "- is checks for object identity (whether two variables point to the same object in memory).\n",
        "\n",
        "\n",
        "\n"
      ],
      "metadata": {
        "id": "1z65yePZ8k9i"
      }
    },
    {
      "cell_type": "markdown",
      "source": [
        "Q8.  What are logical operators in Python.\n",
        "- In Python, logical operators are used to combine conditional statements or expressions. These operators allow you to make more complex boolean (True or False) comparisons. The three main logical operators are: and , or , not .\n",
        "- and: Returns True if both conditions are true.\n",
        "- or: Returns True if at least one condition is true.\n",
        "- not: Reverses the boolean value of the condition."
      ],
      "metadata": {
        "id": "cvIfMikp9Pbc"
      }
    },
    {
      "cell_type": "markdown",
      "source": [],
      "metadata": {
        "id": "XRAQjHGR7mxz"
      }
    },
    {
      "cell_type": "markdown",
      "source": [
        "Q9. What is type casting in Python.\n",
        "- Type casting, also referred to as type conversion, is the process of changing one data type to another in Python.\n",
        "- Python provides built-in functions for type casting, such as int(), float(), str(), list(), tuple(), dict(), etc.\n",
        "- Type casting is often necessary for performing arithmetic operations, data manipulation, and input/output operations in Python programs."
      ],
      "metadata": {
        "id": "Yv6zQvR695pr"
      }
    },
    {
      "cell_type": "markdown",
      "source": [
        "Q10. What is the difference between implicit and explicit type casting.\n",
        "- Implicit type casting is automatic and happens when Python converts one type to another in a way that is safe and logical.\n",
        "- Explicit type casting requires the programmer to manually convert between types using functions like int(), float(), str(), etc."
      ],
      "metadata": {
        "id": "8y22O4kX-V0b"
      }
    },
    {
      "cell_type": "markdown",
      "source": [
        "Q11. What is the purpose of conditional statements in Python.\n",
        "- Conditional statements in Python are used to control the flow of a program based on certain conditions or criteria. They allow the program to make decisions and execute different blocks of code depending on whether a condition is True or False.\n",
        "- The main purposes of conditional statements are:\n",
        "- making decisions\n",
        "- improving program logic\n",
        "- handling different scenarios\n",
        "- controlling program flows\n",
        "\n"
      ],
      "metadata": {
        "id": "jX87RfNY-4QW"
      }
    },
    {
      "cell_type": "markdown",
      "source": [
        "Q12. How does the elif statement work.\n",
        "- The elif (short for \"else if\") statement in Python is used to check multiple conditions in a conditional block. It provides an alternative condition to check when the previous if (or elif) conditions evaluate to False. This allows us to chain multiple conditions and handle different scenarios efficiently.\n",
        "\n",
        "How elif Works:\n",
        "- Python will first check the condition in the if statement.\n",
        "- If the if condition is False, it will move to the next elif condition.\n",
        "- If the elif condition is True, it will execute the block of code associated with that elif.\n",
        "- If none of the if or elif conditions are True, the program will execute the code in the else block (if it exists)."
      ],
      "metadata": {
        "id": "55jxf3zr_8Kn"
      }
    },
    {
      "cell_type": "markdown",
      "source": [
        "Q13.  What is the difference between for and while loops.\n",
        "- In Python, both for and while loops are used to repeat a block of code multiple times, but they work in different ways and are used for different purposes. Here's a breakdown of the differences between the two:\n",
        "\n",
        "1. for Loop:\n",
        "- A for loop is typically used when we know how many times we want to iterate or when we want to iterate over a collection (like a list, tuple, string, etc.).\n",
        "- It is iterative: it iterates over a sequence (like a range, list, or string) and executes the code block for each item in the sequence.\n",
        "2. while Loop:\n",
        "- A while loop is used when we don't necessarily know how many times we want to loop in advance, but we want to repeat a block of code as long as a condition is True.\n",
        "- The loop continues to execute as long as the specified condition is True. Once the condition becomes False, the loop stops."
      ],
      "metadata": {
        "id": "wWHpLXsnAfzJ"
      }
    },
    {
      "cell_type": "markdown",
      "source": [
        "Q14.  Describe a scenario where a while loop is more suitable than a for loop.\n",
        "- A scenario where a while loop is more suitable than a for loop is when we need to repeat a task indefinitely until a specific condition is met, and we don't know beforehand how many iterations will be required.\n"
      ],
      "metadata": {
        "id": "dkgLys8KA_Th"
      }
    },
    {
      "cell_type": "code",
      "source": [
        "correct_password = \"secure123\"\n",
        "user_password = \"\"\n",
        "\n",
        "while user_password != correct_password:\n",
        "    user_password = input(\"Enter your password: \")\n",
        "    if user_password != correct_password:\n",
        "        print(\"Incorrect password. Try again.\")\n",
        "    else:\n",
        "        print(\"Password correct! Access granted.\")\n",
        ""
      ],
      "metadata": {
        "colab": {
          "base_uri": "https://localhost:8080/"
        },
        "id": "xlPbD_Y4Bm3p",
        "outputId": "6f371d7d-4c24-4fb6-fd6b-57b0aed39c4f"
      },
      "execution_count": 2,
      "outputs": [
        {
          "output_type": "stream",
          "name": "stdout",
          "text": [
            "Enter your password: secure123\n",
            "Password correct! Access granted.\n"
          ]
        }
      ]
    },
    {
      "cell_type": "markdown",
      "source": [
        "***Practical Questions***"
      ],
      "metadata": {
        "id": "CqV2nzYGCBce"
      }
    },
    {
      "cell_type": "markdown",
      "source": [
        "Q1.Write a Python program to print \"Hello, World!\""
      ],
      "metadata": {
        "id": "cPgO7CDsCs97"
      }
    },
    {
      "cell_type": "code",
      "source": [
        "print(\"Hello, World!\")\n"
      ],
      "metadata": {
        "colab": {
          "base_uri": "https://localhost:8080/"
        },
        "id": "DzX1frFEC6IM",
        "outputId": "2d24e7b8-9eec-439b-bb8e-c2eeaeb083c0"
      },
      "execution_count": 3,
      "outputs": [
        {
          "output_type": "stream",
          "name": "stdout",
          "text": [
            "Hello, World!\n"
          ]
        }
      ]
    },
    {
      "cell_type": "markdown",
      "source": [
        "Q2. Write a Python program that displays your name and age.\n"
      ],
      "metadata": {
        "id": "03YWiXfJDEZt"
      }
    },
    {
      "cell_type": "code",
      "source": [
        "# Define name and age\n",
        "name = \"Roshi\"\n",
        "age = 25\n",
        "\n",
        "# Print the name and age\n",
        "print(\"Name:\", name)\n",
        "print(\"Age:\", age)\n"
      ],
      "metadata": {
        "colab": {
          "base_uri": "https://localhost:8080/"
        },
        "id": "i1WBlWayDNrA",
        "outputId": "27bc23be-572c-49f1-b0f2-d3611f562455"
      },
      "execution_count": 4,
      "outputs": [
        {
          "output_type": "stream",
          "name": "stdout",
          "text": [
            "Name: Roshi\n",
            "Age: 25\n"
          ]
        }
      ]
    },
    {
      "cell_type": "markdown",
      "source": [
        "Q3. Write code to print all the pre-defined keywords in Python using the keyword library.\n"
      ],
      "metadata": {
        "id": "xwqft_imDg_8"
      }
    },
    {
      "cell_type": "code",
      "source": [
        "import keyword\n",
        "\n",
        "# Print all Python keywords\n",
        "print(\"Python Keywords:\")\n",
        "print(keyword.kwlist)\n"
      ],
      "metadata": {
        "colab": {
          "base_uri": "https://localhost:8080/"
        },
        "id": "6MyAw2pPDmkl",
        "outputId": "f1b6e260-e5e4-44b5-913d-cf52f78405d8"
      },
      "execution_count": 5,
      "outputs": [
        {
          "output_type": "stream",
          "name": "stdout",
          "text": [
            "Python Keywords:\n",
            "['False', 'None', 'True', 'and', 'as', 'assert', 'async', 'await', 'break', 'class', 'continue', 'def', 'del', 'elif', 'else', 'except', 'finally', 'for', 'from', 'global', 'if', 'import', 'in', 'is', 'lambda', 'nonlocal', 'not', 'or', 'pass', 'raise', 'return', 'try', 'while', 'with', 'yield']\n"
          ]
        }
      ]
    },
    {
      "cell_type": "markdown",
      "source": [
        "Q4.  Write a program that checks if a given word is a Python keyword."
      ],
      "metadata": {
        "id": "botTUH-AED39"
      }
    },
    {
      "cell_type": "code",
      "source": [
        "import keyword\n",
        "\n",
        "# Function to check if a word is a Python keyword\n",
        "def is_keyword(word):\n",
        "    return keyword.iskeyword(word)\n",
        "\n",
        "# Get user input\n",
        "word = input(\"Enter a word: \")\n",
        "\n",
        "# Check and display result\n",
        "if is_keyword(word):\n",
        "    print(f\"'{word}' is a Python keyword.\")\n",
        "else:\n",
        "    print(f\"'{word}' is not a Python keyword.\")\n"
      ],
      "metadata": {
        "colab": {
          "base_uri": "https://localhost:8080/"
        },
        "id": "An_aVP38Ek4V",
        "outputId": "5d145d70-53b9-4e10-a8d8-05fbe584d4b8"
      },
      "execution_count": 9,
      "outputs": [
        {
          "output_type": "stream",
          "name": "stdout",
          "text": [
            "Enter a word: if\n",
            "'if' is a Python keyword.\n"
          ]
        }
      ]
    },
    {
      "cell_type": "markdown",
      "source": [
        "Q5.Create a list and tuple in Python, and demonstrate how attempting to change an element works differently\n",
        "for each.\n",
        "- Lists are mutable, so you can modify their elements.\n",
        "- Tuples are immutable, so trying to change an element results in a TypeError."
      ],
      "metadata": {
        "id": "k6CLI1xME6qd"
      }
    },
    {
      "cell_type": "code",
      "source": [
        "# Creating a list\n",
        "my_list = [1, 2, 3, 4]\n",
        "print(\"Original list:\", my_list)\n",
        "\n",
        "# Modifying an element in the list (allowed)\n",
        "my_list[1] = 99\n",
        "print(\"Modified list:\", my_list)\n",
        "\n",
        "# Creating a tuple\n",
        "my_tuple = (1, 2, 3, 4)\n",
        "print(\"\\nOriginal tuple:\", my_tuple)\n",
        "\n",
        "# Attempting to modify an element in the tuple (not allowed)\n",
        "try:\n",
        "    my_tuple[1] = 99  # This will raise a TypeError\n",
        "except TypeError as e:\n",
        "    print(\"Error:\", e)\n"
      ],
      "metadata": {
        "colab": {
          "base_uri": "https://localhost:8080/"
        },
        "id": "gDjd9RzmFqjZ",
        "outputId": "d979e1a2-e964-4811-acaa-3ddc63971ede"
      },
      "execution_count": 11,
      "outputs": [
        {
          "output_type": "stream",
          "name": "stdout",
          "text": [
            "Original list: [1, 2, 3, 4]\n",
            "Modified list: [1, 99, 3, 4]\n",
            "\n",
            "Original tuple: (1, 2, 3, 4)\n",
            "Error: 'tuple' object does not support item assignment\n"
          ]
        }
      ]
    },
    {
      "cell_type": "markdown",
      "source": [
        " Q6. Write a function to demonstrate the behavior of mutable and immutable\n",
        " arguments."
      ],
      "metadata": {
        "id": "a2qIYMZjFyaQ"
      }
    },
    {
      "cell_type": "code",
      "source": [
        "# Function to modify mutable and immutable arguments\n",
        "def modify_arguments(immutable_obj, mutable_obj):\n",
        "    # Attempt to modify the immutable object (integer)\n",
        "    immutable_obj += 10\n",
        "    print(f\"Inside function (immutable): {immutable_obj}\")\n",
        "\n",
        "    # Modify the mutable object (list)\n",
        "    mutable_obj.append(99)\n",
        "    print(f\"Inside function (mutable): {mutable_obj}\")\n",
        "\n",
        "# Immutable argument (integer)\n",
        "num = 5\n",
        "\n",
        "# Mutable argument (list)\n",
        "my_list = [1, 2, 3]\n",
        "\n",
        "print(f\"Before function call (immutable): {num}\")\n",
        "print(f\"Before function call (mutable): {my_list}\")\n",
        "\n",
        "# Call the function\n",
        "modify_arguments(num, my_list)\n",
        "\n",
        "print(f\"After function call (immutable): {num}\")  # Unchanged\n",
        "print(f\"After function call (mutable): {my_list}\")  # Changed\n"
      ],
      "metadata": {
        "colab": {
          "base_uri": "https://localhost:8080/"
        },
        "id": "oatsFfuGF9Xa",
        "outputId": "6ade5d6f-e929-4ca7-d316-62a7d176247c"
      },
      "execution_count": 12,
      "outputs": [
        {
          "output_type": "stream",
          "name": "stdout",
          "text": [
            "Before function call (immutable): 5\n",
            "Before function call (mutable): [1, 2, 3]\n",
            "Inside function (immutable): 15\n",
            "Inside function (mutable): [1, 2, 3, 99]\n",
            "After function call (immutable): 5\n",
            "After function call (mutable): [1, 2, 3, 99]\n"
          ]
        }
      ]
    },
    {
      "cell_type": "markdown",
      "source": [
        "Q7. Question 6 and 7 are same .\n",
        "- Immutable Argument (num): Since integers are immutable, modifying num inside the function creates a new local variable, leaving the original value unchanged.\n",
        "- Mutable Argument (my_list): Since lists are mutable, modifying my_list inside the function directly affects the original list, persisting after the function call."
      ],
      "metadata": {
        "id": "ev-UPMaEGozR"
      }
    },
    {
      "cell_type": "code",
      "source": [
        "def modify_values(immutable_var, mutable_var):\n",
        "    # Attempt to modify the immutable argument (integer)\n",
        "    immutable_var += 10\n",
        "    print(f\"Inside function (immutable): {immutable_var}\")\n",
        "\n",
        "    # Modify the mutable argument (list)\n",
        "    mutable_var.append(99)\n",
        "    print(f\"Inside function (mutable): {mutable_var}\")\n",
        "\n",
        "# Immutable argument (integer)\n",
        "num = 5\n",
        "\n",
        "# Mutable argument (list)\n",
        "my_list = [1, 2, 3]\n",
        "\n",
        "print(f\"Before function call (immutable): {num}\")\n",
        "print(f\"Before function call (mutable): {my_list}\")\n",
        "\n",
        "# Call the function\n",
        "modify_values(num, my_list)\n",
        "\n",
        "print(f\"After function call (immutable): {num}\")  # Unchanged\n",
        "print(f\"After function call (mutable): {my_list}\")  # Changed\n"
      ],
      "metadata": {
        "colab": {
          "base_uri": "https://localhost:8080/"
        },
        "id": "PCSUBOAYHAaE",
        "outputId": "0dca5d49-3a50-4cda-f41a-f028c24b63b9"
      },
      "execution_count": 13,
      "outputs": [
        {
          "output_type": "stream",
          "name": "stdout",
          "text": [
            "Before function call (immutable): 5\n",
            "Before function call (mutable): [1, 2, 3]\n",
            "Inside function (immutable): 15\n",
            "Inside function (mutable): [1, 2, 3, 99]\n",
            "After function call (immutable): 5\n",
            "After function call (mutable): [1, 2, 3, 99]\n"
          ]
        }
      ]
    },
    {
      "cell_type": "markdown",
      "source": [
        "Q8. Write a program to demonstrate the use of logical operators"
      ],
      "metadata": {
        "id": "24g5DThcHD6u"
      }
    },
    {
      "cell_type": "code",
      "source": [
        "# Logical Operators Demonstration\n",
        "\n",
        "# Variables\n",
        "a = True\n",
        "b = False\n",
        "\n",
        "# Using 'and' operator\n",
        "print(\"a and b:\", a and b)  # False (Both must be True)\n",
        "\n",
        "# Using 'or' operator\n",
        "print(\"a or b:\", a or b)    # True (At least one must be True)\n",
        "\n",
        "# Using 'not' operator\n",
        "print(\"not a:\", not a)      # False (Reverses the value)\n",
        "print(\"not b:\", not b)      # True (Reverses the value)\n",
        "\n",
        "# More practical example\n",
        "x = 10\n",
        "y = 20\n",
        "\n",
        "# Checking conditions using logical operators\n",
        "print(\"\\n(x > 5 and y > 15):\", x > 5 and y > 15)  # True\n",
        "print(\"(x > 15 or y > 15):\", x > 15 or y > 15)    # True\n",
        "print(\"not (x > 5):\", not (x > 5))               # False\n"
      ],
      "metadata": {
        "colab": {
          "base_uri": "https://localhost:8080/"
        },
        "id": "AbECyTxjHRzN",
        "outputId": "b463a8af-f63b-47eb-c92a-95b0e69d98dd"
      },
      "execution_count": 14,
      "outputs": [
        {
          "output_type": "stream",
          "name": "stdout",
          "text": [
            "a and b: False\n",
            "a or b: True\n",
            "not a: False\n",
            "not b: True\n",
            "\n",
            "(x > 5 and y > 15): True\n",
            "(x > 15 or y > 15): True\n",
            "not (x > 5): False\n"
          ]
        }
      ]
    },
    {
      "cell_type": "markdown",
      "source": [
        "Q9.  Write a Python program to convert user input from string to integer, float, and boolean types.\n"
      ],
      "metadata": {
        "id": "F-3fZFSTHUOZ"
      }
    },
    {
      "cell_type": "code",
      "source": [
        "# Get user input as a string\n",
        "user_input = input(\"Enter a value: \")\n",
        "\n",
        "# Convert to integer\n",
        "try:\n",
        "    int_value = int(user_input)\n",
        "    print(f\"Integer value: {int_value}\")\n",
        "except ValueError:\n",
        "    print(\"Cannot convert to integer.\")\n",
        "\n",
        "# Convert to float\n",
        "try:\n",
        "    float_value = float(user_input)\n",
        "    print(f\"Float value: {float_value}\")\n",
        "except ValueError:\n",
        "    print(\"Cannot convert to float.\")\n",
        "\n",
        "# Convert to boolean\n",
        "bool_value = bool(user_input)  # Any non-empty string is True, empty string is False\n",
        "print(f\"Boolean value: {bool_value}\")\n"
      ],
      "metadata": {
        "colab": {
          "base_uri": "https://localhost:8080/"
        },
        "id": "An9q8k-0HvpX",
        "outputId": "8e748a07-c1da-4bd9-f0e6-7d71ff769d72"
      },
      "execution_count": 15,
      "outputs": [
        {
          "output_type": "stream",
          "name": "stdout",
          "text": [
            "Enter a value: 10\n",
            "Integer value: 10\n",
            "Float value: 10.0\n",
            "Boolean value: True\n"
          ]
        }
      ]
    },
    {
      "cell_type": "markdown",
      "source": [
        "Q10. Write code to demonstrate type casting with list elements."
      ],
      "metadata": {
        "id": "q31ZGl9LKZRk"
      }
    },
    {
      "cell_type": "code",
      "source": [
        "# List with mixed data types as strings\n",
        "string_list = [\"10\", \"20.5\", \"30\", \"True\", \"False\"]\n",
        "\n",
        "# Convert list elements to different types\n",
        "int_list = [int(x) for x in string_list if x.isdigit()]  # Convert only numeric strings to int\n",
        "float_list = [float(x) for x in string_list if x.replace('.', '', 1).isdigit()]  # Convert to float\n",
        "bool_list = [x.lower() == \"true\" for x in string_list]  # Convert 'True'/'False' strings to boolean\n",
        "\n",
        "# Print results\n",
        "print(\"Original List:\", string_list)\n",
        "print(\"Converted to Integers:\", int_list)\n",
        "print(\"Converted to Floats:\", float_list)\n",
        "print(\"Converted to Booleans:\", bool_list)\n"
      ],
      "metadata": {
        "colab": {
          "base_uri": "https://localhost:8080/"
        },
        "id": "uQb9NIxtLfT0",
        "outputId": "546e254d-c0d1-47b3-9bf6-aba974dfed54"
      },
      "execution_count": 17,
      "outputs": [
        {
          "output_type": "stream",
          "name": "stdout",
          "text": [
            "Original List: ['10', '20.5', '30', 'True', 'False']\n",
            "Converted to Integers: [10, 30]\n",
            "Converted to Floats: [10.0, 20.5, 30.0]\n",
            "Converted to Booleans: [False, False, False, True, False]\n"
          ]
        }
      ]
    },
    {
      "cell_type": "markdown",
      "source": [
        "Q11. Write a program that checks if a number is positive, negative, or zero."
      ],
      "metadata": {
        "id": "3_1u-rMDNMTb"
      }
    },
    {
      "cell_type": "code",
      "source": [
        "number = float(input(\"Enter a number: \"))\n",
        "if number > 0:\n",
        "    print(\"The number is positive.\")\n",
        "elif number < 0:\n",
        "    print(\"The number is negative.\")\n",
        "else:\n",
        "    print(\"The number is zero.\")"
      ],
      "metadata": {
        "colab": {
          "base_uri": "https://localhost:8080/"
        },
        "id": "JLOht7jhNqcn",
        "outputId": "98866d97-14f9-4a48-98fc-702ac1f60811"
      },
      "execution_count": 18,
      "outputs": [
        {
          "output_type": "stream",
          "name": "stdout",
          "text": [
            "Enter a number: 65\n",
            "The number is positive.\n"
          ]
        }
      ]
    },
    {
      "cell_type": "markdown",
      "source": [
        "Q12.Write a for loop to print numbers from 1 to 10."
      ],
      "metadata": {
        "id": "syNLIH19Ol0J"
      }
    },
    {
      "cell_type": "code",
      "source": [
        "for num in range(1, 11):  # range(start, stop) - stop is exclusive\n",
        "    print(num)\n"
      ],
      "metadata": {
        "colab": {
          "base_uri": "https://localhost:8080/"
        },
        "id": "VPAB67kSOyc1",
        "outputId": "fee7c8fc-7081-47f3-d785-ed5a0d525011"
      },
      "execution_count": 20,
      "outputs": [
        {
          "output_type": "stream",
          "name": "stdout",
          "text": [
            "1\n",
            "2\n",
            "3\n",
            "4\n",
            "5\n",
            "6\n",
            "7\n",
            "8\n",
            "9\n",
            "10\n"
          ]
        }
      ]
    },
    {
      "cell_type": "markdown",
      "source": [
        "Q13.  Write a Python program to find the sum of all even numbers between 1 and 50.\n"
      ],
      "metadata": {
        "id": "1vsC848TPAl9"
      }
    },
    {
      "cell_type": "code",
      "source": [
        "even_sum = sum(i for i in range(1, 51) if i % 2 == 0)\n",
        "print(\"Sum of all even numbers between 1 and 50:\", even_sum)"
      ],
      "metadata": {
        "colab": {
          "base_uri": "https://localhost:8080/"
        },
        "id": "V92U9qDIPGU3",
        "outputId": "eff0c852-9bb7-4f4d-e468-4ea31b5f6abd"
      },
      "execution_count": 21,
      "outputs": [
        {
          "output_type": "stream",
          "name": "stdout",
          "text": [
            "Sum of all even numbers between 1 and 50: 650\n"
          ]
        }
      ]
    },
    {
      "cell_type": "markdown",
      "source": [
        "Q14.  Write a program to reverse a string using a while loop."
      ],
      "metadata": {
        "id": "ry4w1CL2PLku"
      }
    },
    {
      "cell_type": "code",
      "source": [
        "original_string = input(\"Enter a string to reverse: \")\n",
        "reversed_string = \"\"\n",
        "index = len(original_string) - 1\n",
        "\n",
        "while index >= 0:\n",
        "    reversed_string += original_string[index]\n",
        "    index -= 1\n",
        "\n",
        "print(\"Reversed string:\", reversed_string)"
      ],
      "metadata": {
        "colab": {
          "base_uri": "https://localhost:8080/"
        },
        "id": "CHOC7-FQPQv_",
        "outputId": "9c6b910c-74e2-4582-fcb8-c0bf43ae07c6"
      },
      "execution_count": 23,
      "outputs": [
        {
          "output_type": "stream",
          "name": "stdout",
          "text": [
            "Enter a string to reverse: @ $ %\n",
            "Reversed string: % $ @\n"
          ]
        }
      ]
    },
    {
      "cell_type": "markdown",
      "source": [
        "Q15. Write a Python program to calculate the factorial of a number provided by the user using a while loop."
      ],
      "metadata": {
        "id": "JXXsX0FuPmS7"
      }
    },
    {
      "cell_type": "code",
      "source": [
        "# Get user input\n",
        "num = int(input(\"Enter a number: \"))\n",
        "\n",
        "# Initialize variables\n",
        "factorial = 1\n",
        "i = num\n",
        "\n",
        "# Check if the number is negative\n",
        "if num < 0:\n",
        "    print(\"Factorial is not defined for negative numbers.\")\n",
        "elif num == 0:\n",
        "    print(\"The factorial of 0 is 1.\")\n",
        "else:\n",
        "    # Calculate factorial using while loop\n",
        "    while i > 1:\n",
        "        factorial *= i\n",
        "        i -= 1\n",
        "\n",
        "    # Print the result\n",
        "    print(f\"The factorial of {num} is {factorial}.\")\n"
      ],
      "metadata": {
        "colab": {
          "base_uri": "https://localhost:8080/"
        },
        "id": "_lST1g36PtKJ",
        "outputId": "e992e41a-3936-405b-ad04-287a10e1136c"
      },
      "execution_count": 27,
      "outputs": [
        {
          "output_type": "stream",
          "name": "stdout",
          "text": [
            "Enter a number: 9\n",
            "The factorial of 9 is 362880.\n"
          ]
        }
      ]
    }
  ]
}